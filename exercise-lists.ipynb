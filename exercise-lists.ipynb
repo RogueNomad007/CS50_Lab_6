{
 "cells": [
  {
   "cell_type": "markdown",
   "id": "a03e4bae",
   "metadata": {
    "papermill": {
     "duration": 0.004808,
     "end_time": "2023-11-07T22:16:19.645466",
     "exception": false,
     "start_time": "2023-11-07T22:16:19.640658",
     "status": "completed"
    },
    "tags": []
   },
   "source": [
    "**This notebook is an exercise in the [Python](https://www.kaggle.com/learn/python) course.  You can reference the tutorial at [this link](https://www.kaggle.com/colinmorris/lists).**\n",
    "\n",
    "---\n"
   ]
  },
  {
   "cell_type": "markdown",
   "id": "3d65cf8b",
   "metadata": {
    "papermill": {
     "duration": 0.003897,
     "end_time": "2023-11-07T22:16:19.655580",
     "exception": false,
     "start_time": "2023-11-07T22:16:19.651683",
     "status": "completed"
    },
    "tags": []
   },
   "source": []
  },
  {
   "cell_type": "markdown",
   "id": "9cf47346",
   "metadata": {
    "papermill": {
     "duration": 0.003871,
     "end_time": "2023-11-07T22:16:19.663570",
     "exception": false,
     "start_time": "2023-11-07T22:16:19.659699",
     "status": "completed"
    },
    "tags": []
   },
   "source": [
    "Things get more interesting with lists. You'll apply your new knowledge to solve the questions below. Remember to run the following cell first."
   ]
  },
  {
   "cell_type": "code",
   "execution_count": 1,
   "id": "b0b17617",
   "metadata": {
    "execution": {
     "iopub.execute_input": "2023-11-07T22:16:19.674390Z",
     "iopub.status.busy": "2023-11-07T22:16:19.674036Z",
     "iopub.status.idle": "2023-11-07T22:16:20.028901Z",
     "shell.execute_reply": "2023-11-07T22:16:20.028210Z"
    },
    "papermill": {
     "duration": 0.362498,
     "end_time": "2023-11-07T22:16:20.030821",
     "exception": false,
     "start_time": "2023-11-07T22:16:19.668323",
     "status": "completed"
    },
    "tags": []
   },
   "outputs": [
    {
     "name": "stdout",
     "output_type": "stream",
     "text": [
      "Setup complete.\n"
     ]
    }
   ],
   "source": [
    "from learntools.core import binder; binder.bind(globals())\n",
    "from learntools.python.ex4 import *\n",
    "print('Setup complete.')"
   ]
  },
  {
   "cell_type": "markdown",
   "id": "413dddc8",
   "metadata": {
    "papermill": {
     "duration": 0.004403,
     "end_time": "2023-11-07T22:16:20.039801",
     "exception": false,
     "start_time": "2023-11-07T22:16:20.035398",
     "status": "completed"
    },
    "tags": []
   },
   "source": [
    "# 1.\n",
    "\n",
    "Complete the function below according to its docstring."
   ]
  },
  {
   "cell_type": "code",
   "execution_count": 2,
   "id": "05eb2de3",
   "metadata": {
    "execution": {
     "iopub.execute_input": "2023-11-07T22:16:20.049836Z",
     "iopub.status.busy": "2023-11-07T22:16:20.049351Z",
     "iopub.status.idle": "2023-11-07T22:16:20.057895Z",
     "shell.execute_reply": "2023-11-07T22:16:20.056997Z"
    },
    "papermill": {
     "duration": 0.015764,
     "end_time": "2023-11-07T22:16:20.059796",
     "exception": false,
     "start_time": "2023-11-07T22:16:20.044032",
     "status": "completed"
    },
    "tags": []
   },
   "outputs": [
    {
     "data": {
      "application/javascript": [
       "parent.postMessage({\"jupyterEvent\": \"custom.exercise_interaction\", \"data\": {\"outcomeType\": 1, \"valueTowardsCompletion\": 0.2, \"interactionType\": 1, \"questionType\": 2, \"questionId\": \"1_SelectSecondItem\", \"learnToolsVersion\": \"0.3.4\", \"failureMessage\": \"\", \"exceptionClass\": \"\", \"trace\": \"\"}}, \"*\")"
      ],
      "text/plain": [
       "<IPython.core.display.Javascript object>"
      ]
     },
     "metadata": {},
     "output_type": "display_data"
    },
    {
     "data": {
      "text/markdown": [
       "<span style=\"color:#33cc33\">Correct</span>"
      ],
      "text/plain": [
       "Correct"
      ]
     },
     "metadata": {},
     "output_type": "display_data"
    }
   ],
   "source": [
    "def select_second(L):\n",
    "    if len(L) < 2:\n",
    "        return None\n",
    "    return L[1]\n",
    "\n",
    "# Check your answer\n",
    "q1.check()"
   ]
  },
  {
   "cell_type": "code",
   "execution_count": 3,
   "id": "1f9ab436",
   "metadata": {
    "execution": {
     "iopub.execute_input": "2023-11-07T22:16:20.071072Z",
     "iopub.status.busy": "2023-11-07T22:16:20.070712Z",
     "iopub.status.idle": "2023-11-07T22:16:20.075375Z",
     "shell.execute_reply": "2023-11-07T22:16:20.074120Z"
    },
    "papermill": {
     "duration": 0.012638,
     "end_time": "2023-11-07T22:16:20.077221",
     "exception": false,
     "start_time": "2023-11-07T22:16:20.064583",
     "status": "completed"
    },
    "tags": []
   },
   "outputs": [],
   "source": [
    "#q1.hint()\n",
    "#q1.solution()"
   ]
  },
  {
   "cell_type": "markdown",
   "id": "21defd40",
   "metadata": {
    "papermill": {
     "duration": 0.004309,
     "end_time": "2023-11-07T22:16:20.086237",
     "exception": false,
     "start_time": "2023-11-07T22:16:20.081928",
     "status": "completed"
    },
    "tags": []
   },
   "source": [
    "# 2.\n",
    "\n",
    "You are analyzing sports teams.  Members of each team are stored in a list. The Coach is the first name in the list, the captain is the second name in the list, and other players are listed after that. \n",
    "These lists are stored in another list, which starts with the best team and proceeds through the list to the worst team last.  Complete the function below to select the **captain** of the worst team."
   ]
  },
  {
   "cell_type": "code",
   "execution_count": 4,
   "id": "4bee7f0d",
   "metadata": {
    "execution": {
     "iopub.execute_input": "2023-11-07T22:16:20.097974Z",
     "iopub.status.busy": "2023-11-07T22:16:20.096997Z",
     "iopub.status.idle": "2023-11-07T22:16:20.104981Z",
     "shell.execute_reply": "2023-11-07T22:16:20.104096Z"
    },
    "papermill": {
     "duration": 0.015821,
     "end_time": "2023-11-07T22:16:20.106746",
     "exception": false,
     "start_time": "2023-11-07T22:16:20.090925",
     "status": "completed"
    },
    "tags": []
   },
   "outputs": [
    {
     "data": {
      "application/javascript": [
       "parent.postMessage({\"jupyterEvent\": \"custom.exercise_interaction\", \"data\": {\"outcomeType\": 1, \"valueTowardsCompletion\": 0.2, \"interactionType\": 1, \"questionType\": 2, \"questionId\": \"2_LosingTeamCaptain\", \"learnToolsVersion\": \"0.3.4\", \"failureMessage\": \"\", \"exceptionClass\": \"\", \"trace\": \"\"}}, \"*\")"
      ],
      "text/plain": [
       "<IPython.core.display.Javascript object>"
      ]
     },
     "metadata": {},
     "output_type": "display_data"
    },
    {
     "data": {
      "text/markdown": [
       "<span style=\"color:#33cc33\">Correct</span>"
      ],
      "text/plain": [
       "Correct"
      ]
     },
     "metadata": {},
     "output_type": "display_data"
    }
   ],
   "source": [
    "def losing_team_captain(teams):\n",
    "    return teams[-1][1]\n",
    "\n",
    "# Check your answer\n",
    "q2.check()"
   ]
  },
  {
   "cell_type": "code",
   "execution_count": 5,
   "id": "30af12b8",
   "metadata": {
    "execution": {
     "iopub.execute_input": "2023-11-07T22:16:20.118682Z",
     "iopub.status.busy": "2023-11-07T22:16:20.118294Z",
     "iopub.status.idle": "2023-11-07T22:16:20.123319Z",
     "shell.execute_reply": "2023-11-07T22:16:20.122039Z"
    },
    "papermill": {
     "duration": 0.014005,
     "end_time": "2023-11-07T22:16:20.125798",
     "exception": false,
     "start_time": "2023-11-07T22:16:20.111793",
     "status": "completed"
    },
    "tags": []
   },
   "outputs": [],
   "source": [
    "#q2.hint()\n",
    "#q2.solution()"
   ]
  },
  {
   "cell_type": "markdown",
   "id": "8e432db8",
   "metadata": {
    "papermill": {
     "duration": 0.004484,
     "end_time": "2023-11-07T22:16:20.135230",
     "exception": false,
     "start_time": "2023-11-07T22:16:20.130746",
     "status": "completed"
    },
    "tags": []
   },
   "source": [
    "# 3.\n",
    "\n",
    "The next iteration of Mario Kart will feature an extra-infuriating new item, the *Purple Shell*. When used, it warps the last place racer into first place and the first place racer into last place. Complete the function below to implement the Purple Shell's effect."
   ]
  },
  {
   "cell_type": "code",
   "execution_count": 6,
   "id": "44572806",
   "metadata": {
    "execution": {
     "iopub.execute_input": "2023-11-07T22:16:20.146573Z",
     "iopub.status.busy": "2023-11-07T22:16:20.145982Z",
     "iopub.status.idle": "2023-11-07T22:16:20.155043Z",
     "shell.execute_reply": "2023-11-07T22:16:20.153733Z"
    },
    "papermill": {
     "duration": 0.017715,
     "end_time": "2023-11-07T22:16:20.157671",
     "exception": false,
     "start_time": "2023-11-07T22:16:20.139956",
     "status": "completed"
    },
    "tags": []
   },
   "outputs": [
    {
     "data": {
      "application/javascript": [
       "parent.postMessage({\"jupyterEvent\": \"custom.exercise_interaction\", \"data\": {\"outcomeType\": 1, \"valueTowardsCompletion\": 0.2, \"interactionType\": 1, \"questionType\": 2, \"questionId\": \"3_PurpleShell\", \"learnToolsVersion\": \"0.3.4\", \"failureMessage\": \"\", \"exceptionClass\": \"\", \"trace\": \"\"}}, \"*\")"
      ],
      "text/plain": [
       "<IPython.core.display.Javascript object>"
      ]
     },
     "metadata": {},
     "output_type": "display_data"
    },
    {
     "data": {
      "text/markdown": [
       "<span style=\"color:#33cc33\">Correct</span>"
      ],
      "text/plain": [
       "Correct"
      ]
     },
     "metadata": {},
     "output_type": "display_data"
    }
   ],
   "source": [
    "def purple_shell(racers):\n",
    "    # One slick way to do the swap is x[0], x[-1] = x[-1], x[0].\n",
    "    temp = racers[0]\n",
    "    racers[0] = racers[-1]\n",
    "    racers[-1] = temp\n",
    "# Check your answer\n",
    "q3.check()"
   ]
  },
  {
   "cell_type": "code",
   "execution_count": 7,
   "id": "819627ed",
   "metadata": {
    "execution": {
     "iopub.execute_input": "2023-11-07T22:16:20.169276Z",
     "iopub.status.busy": "2023-11-07T22:16:20.168905Z",
     "iopub.status.idle": "2023-11-07T22:16:20.172899Z",
     "shell.execute_reply": "2023-11-07T22:16:20.171753Z"
    },
    "papermill": {
     "duration": 0.012734,
     "end_time": "2023-11-07T22:16:20.175508",
     "exception": false,
     "start_time": "2023-11-07T22:16:20.162774",
     "status": "completed"
    },
    "tags": []
   },
   "outputs": [],
   "source": [
    "#q3.hint()\n",
    "#q3.solution()"
   ]
  },
  {
   "cell_type": "markdown",
   "id": "a91b62ad",
   "metadata": {
    "papermill": {
     "duration": 0.00474,
     "end_time": "2023-11-07T22:16:20.185454",
     "exception": false,
     "start_time": "2023-11-07T22:16:20.180714",
     "status": "completed"
    },
    "tags": []
   },
   "source": [
    "# 4.\n",
    "\n",
    "What are the lengths of the following lists? Fill in the variable `lengths` with your predictions. (Try to make a prediction for each list *without* just calling `len()` on it.)"
   ]
  },
  {
   "cell_type": "code",
   "execution_count": 8,
   "id": "a24b6017",
   "metadata": {
    "execution": {
     "iopub.execute_input": "2023-11-07T22:16:20.197188Z",
     "iopub.status.busy": "2023-11-07T22:16:20.196299Z",
     "iopub.status.idle": "2023-11-07T22:16:20.206299Z",
     "shell.execute_reply": "2023-11-07T22:16:20.205203Z"
    },
    "papermill": {
     "duration": 0.018703,
     "end_time": "2023-11-07T22:16:20.208998",
     "exception": false,
     "start_time": "2023-11-07T22:16:20.190295",
     "status": "completed"
    },
    "tags": []
   },
   "outputs": [
    {
     "data": {
      "application/javascript": [
       "parent.postMessage({\"jupyterEvent\": \"custom.exercise_interaction\", \"data\": {\"outcomeType\": 1, \"valueTowardsCompletion\": 0.2, \"interactionType\": 1, \"questionType\": 1, \"questionId\": \"4_UnderstandLen\", \"learnToolsVersion\": \"0.3.4\", \"failureMessage\": \"\", \"exceptionClass\": \"\", \"trace\": \"\"}}, \"*\")"
      ],
      "text/plain": [
       "<IPython.core.display.Javascript object>"
      ]
     },
     "metadata": {},
     "output_type": "display_data"
    },
    {
     "data": {
      "text/markdown": [
       "<span style=\"color:#33cc33\">Correct:</span> \n",
       "\n",
       "\n",
       "- a: There are three items in this list. Nothing tricky yet.\n",
       "- b: The list `[2, 3]` counts as a single item. It has one item before it. So we have 2 items in the list\n",
       "- c: The empty list has 0 items\n",
       "- d: The expression is the same as the list `[2, 3]`, which has length 2."
      ],
      "text/plain": [
       "Correct: \n",
       "\n",
       "\n",
       "- a: There are three items in this list. Nothing tricky yet.\n",
       "- b: The list `[2, 3]` counts as a single item. It has one item before it. So we have 2 items in the list\n",
       "- c: The empty list has 0 items\n",
       "- d: The expression is the same as the list `[2, 3]`, which has length 2."
      ]
     },
     "metadata": {},
     "output_type": "display_data"
    }
   ],
   "source": [
    "a = [1, 2, 3]\n",
    "b = [1, [2, 3]]\n",
    "c = []\n",
    "d = [1, 2, 3][1:]\n",
    "\n",
    "# Put your predictions in the list below. Lengths should contain 4 numbers, the\n",
    "# first being the length of a, the second being the length of b and so on.\n",
    "lengths = [3,2,0,2]\n",
    "\n",
    "# Check your answer\n",
    "q4.check()"
   ]
  },
  {
   "cell_type": "code",
   "execution_count": 9,
   "id": "c106bf8e",
   "metadata": {
    "execution": {
     "iopub.execute_input": "2023-11-07T22:16:20.222095Z",
     "iopub.status.busy": "2023-11-07T22:16:20.221791Z",
     "iopub.status.idle": "2023-11-07T22:16:20.226195Z",
     "shell.execute_reply": "2023-11-07T22:16:20.225216Z"
    },
    "papermill": {
     "duration": 0.013508,
     "end_time": "2023-11-07T22:16:20.228605",
     "exception": false,
     "start_time": "2023-11-07T22:16:20.215097",
     "status": "completed"
    },
    "tags": []
   },
   "outputs": [],
   "source": [
    "# line below provides some explanation\n",
    "#q4.solution()"
   ]
  },
  {
   "cell_type": "markdown",
   "id": "c0446259",
   "metadata": {
    "papermill": {
     "duration": 0.004806,
     "end_time": "2023-11-07T22:16:20.238871",
     "exception": false,
     "start_time": "2023-11-07T22:16:20.234065",
     "status": "completed"
    },
    "tags": []
   },
   "source": [
    "# 5. <span title=\"A bit spicy\" style=\"color: darkgreen \">🌶️</span>\n",
    "\n",
    "We're using lists to record people who attended our party and what order they arrived in. For example, the following list represents a party with 7 guests, in which Adela showed up first and Ford was the last to arrive:\n",
    "\n",
    "    party_attendees = ['Adela', 'Fleda', 'Owen', 'May', 'Mona', 'Gilbert', 'Ford']\n",
    "\n",
    "A guest is considered 'fashionably late' if they arrived after at least half of the party's guests. However, they must not be the very last guest (that's taking it too far). In the above example, Mona and Gilbert are the only guests who were fashionably late.\n",
    "\n",
    "Complete the function below which takes a list of party attendees as well as a person, and tells us whether that person is fashionably late."
   ]
  },
  {
   "cell_type": "code",
   "execution_count": 10,
   "id": "49d0d9d4",
   "metadata": {
    "execution": {
     "iopub.execute_input": "2023-11-07T22:16:20.250801Z",
     "iopub.status.busy": "2023-11-07T22:16:20.250473Z",
     "iopub.status.idle": "2023-11-07T22:16:20.258412Z",
     "shell.execute_reply": "2023-11-07T22:16:20.257492Z"
    },
    "papermill": {
     "duration": 0.016283,
     "end_time": "2023-11-07T22:16:20.260197",
     "exception": false,
     "start_time": "2023-11-07T22:16:20.243914",
     "status": "completed"
    },
    "tags": []
   },
   "outputs": [
    {
     "data": {
      "application/javascript": [
       "parent.postMessage({\"jupyterEvent\": \"custom.exercise_interaction\", \"data\": {\"outcomeType\": 1, \"valueTowardsCompletion\": 0.2, \"interactionType\": 1, \"questionType\": 2, \"questionId\": \"5_FashionablyLate\", \"learnToolsVersion\": \"0.3.4\", \"failureMessage\": \"\", \"exceptionClass\": \"\", \"trace\": \"\"}}, \"*\")"
      ],
      "text/plain": [
       "<IPython.core.display.Javascript object>"
      ]
     },
     "metadata": {},
     "output_type": "display_data"
    },
    {
     "data": {
      "text/markdown": [
       "<span style=\"color:#33cc33\">Correct</span>"
      ],
      "text/plain": [
       "Correct"
      ]
     },
     "metadata": {},
     "output_type": "display_data"
    }
   ],
   "source": [
    "def fashionably_late(arrivals, name):\n",
    "    order = arrivals.index(name)\n",
    "    return order >= len(arrivals) / 2 and order != len(arrivals) - 1\n",
    "\n",
    "# Check your answer\n",
    "q5.check()"
   ]
  },
  {
   "cell_type": "code",
   "execution_count": 11,
   "id": "946d09c9",
   "metadata": {
    "execution": {
     "iopub.execute_input": "2023-11-07T22:16:20.272221Z",
     "iopub.status.busy": "2023-11-07T22:16:20.271931Z",
     "iopub.status.idle": "2023-11-07T22:16:20.275631Z",
     "shell.execute_reply": "2023-11-07T22:16:20.274745Z"
    },
    "papermill": {
     "duration": 0.012548,
     "end_time": "2023-11-07T22:16:20.278001",
     "exception": false,
     "start_time": "2023-11-07T22:16:20.265453",
     "status": "completed"
    },
    "tags": []
   },
   "outputs": [],
   "source": [
    "#q5.hint()\n",
    "#q5.solution()"
   ]
  },
  {
   "cell_type": "markdown",
   "id": "ca3125a9",
   "metadata": {
    "papermill": {
     "duration": 0.005017,
     "end_time": "2023-11-07T22:16:20.288684",
     "exception": false,
     "start_time": "2023-11-07T22:16:20.283667",
     "status": "completed"
    },
    "tags": []
   },
   "source": [
    "# Keep Going\n",
    "\n",
    "That's it for lists and tuples! Now you have the baseline knowledge to **[learn about loops](https://www.kaggle.com/colinmorris/loops-and-list-comprehensions)**, which is where lists and tuples get really interesting. "
   ]
  },
  {
   "cell_type": "markdown",
   "id": "34f56ea7",
   "metadata": {
    "papermill": {
     "duration": 0.005186,
     "end_time": "2023-11-07T22:16:20.299970",
     "exception": false,
     "start_time": "2023-11-07T22:16:20.294784",
     "status": "completed"
    },
    "tags": []
   },
   "source": [
    "---\n",
    "\n",
    "\n",
    "\n",
    "\n",
    "*Have questions or comments? Visit the [course discussion forum](https://www.kaggle.com/learn/python/discussion) to chat with other learners.*"
   ]
  }
 ],
 "metadata": {
  "kernelspec": {
   "display_name": "Python 3",
   "language": "python",
   "name": "python3"
  },
  "language_info": {
   "codemirror_mode": {
    "name": "ipython",
    "version": 3
   },
   "file_extension": ".py",
   "mimetype": "text/x-python",
   "name": "python",
   "nbconvert_exporter": "python",
   "pygments_lexer": "ipython3",
   "version": "3.10.12"
  },
  "papermill": {
   "default_parameters": {},
   "duration": 3.938733,
   "end_time": "2023-11-07T22:16:20.729369",
   "environment_variables": {},
   "exception": null,
   "input_path": "__notebook__.ipynb",
   "output_path": "__notebook__.ipynb",
   "parameters": {},
   "start_time": "2023-11-07T22:16:16.790636",
   "version": "2.4.0"
  }
 },
 "nbformat": 4,
 "nbformat_minor": 5
}
